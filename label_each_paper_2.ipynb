{
  "nbformat": 4,
  "nbformat_minor": 0,
  "metadata": {
    "colab": {
      "provenance": []
    },
    "kernelspec": {
      "name": "python3",
      "display_name": "Python 3"
    },
    "language_info": {
      "name": "python"
    }
  },
  "cells": [
    {
      "cell_type": "code",
      "source": [
        "import pandas as pd\n",
        "import google.generativeai as genai\n",
        "from tqdm import tqdm\n",
        "import time\n",
        "from google.colab import userdata"
      ],
      "metadata": {
        "id": "WbawgOkRd_7z"
      },
      "execution_count": 1,
      "outputs": []
    },
    {
      "cell_type": "code",
      "source": [
        "from google.colab import drive\n",
        "drive.mount('/content/drive')"
      ],
      "metadata": {
        "id": "Y87bS1feeO1a",
        "colab": {
          "base_uri": "https://localhost:8080/"
        },
        "outputId": "ccd5333c-2323-4398-9f04-fb8dfd25ad1d"
      },
      "execution_count": 2,
      "outputs": [
        {
          "output_type": "stream",
          "name": "stdout",
          "text": [
            "Mounted at /content/drive\n"
          ]
        }
      ]
    },
    {
      "cell_type": "code",
      "source": [
        "\n",
        "# Configure Gemini API\n",
        "def configure_gemini(api_key):\n",
        "    \"\"\"Configure the Gemini API with your API key.\"\"\"\n",
        "    genai.configure(api_key=api_key)\n",
        "    return genai.GenerativeModel('gemini-1.5-flash')  # Using faster model\n",
        "\n",
        "\n"
      ],
      "metadata": {
        "id": "RzGCgtjbeHJX"
      },
      "execution_count": 3,
      "outputs": []
    },
    {
      "cell_type": "code",
      "source": [
        "# Label generation prompt template\n",
        "PROMPT_TEMPLATE = \"\"\"\n",
        "Please analyze the following academic paper and generate a unique, descriptive label that captures its main focus.\n",
        "The label should be concise (3-5 words max) and suitable for use in a recommender system.\n",
        "\n",
        "Paper Title: {title}\n",
        "\n",
        "Abstract: {abstract}\n",
        "\n",
        "Please provide only the label, nothing else. The label should be in the following format:\n",
        "\"label: [your generated label here]\"\n",
        "\"\"\""
      ],
      "metadata": {
        "id": "FIXQotidebFK"
      },
      "execution_count": 4,
      "outputs": []
    },
    {
      "cell_type": "code",
      "source": [
        "\n",
        "def extract_label_from_response(response_text):\n",
        "    \"\"\"Extract the label from Gemini's response.\"\"\"\n",
        "    if \"label:\" in response_text.lower():\n",
        "        return response_text.split(\"label:\")[1].strip()\n",
        "    return response_text.strip()\n",
        "\n",
        "\n",
        "def generate_paper_label(model, title, abstract, max_retries=3):\n",
        "    \"\"\"Generate a label for a paper using Gemini.\"\"\"\n",
        "    # Handle empty titles\n",
        "    if pd.isna(title) or str(title).strip() == \"\":\n",
        "        title = \"Untitled Paper\"\n",
        "\n",
        "    # Handle empty abstracts\n",
        "    if pd.isna(abstract) or str(abstract).strip() == \"\":\n",
        "        abstract = \"No abstract available\"\n",
        "\n",
        "    prompt = PROMPT_TEMPLATE.format(title=title, abstract=abstract)\n",
        "\n",
        "    for attempt in range(max_retries):\n",
        "        try:\n",
        "            response = model.generate_content(prompt)\n",
        "            label = extract_label_from_response(response.text)\n",
        "            return label\n",
        "        except Exception as e:\n",
        "            print(f\"Attempt {attempt + 1} failed for paper '{title[:50]}...': {str(e)}\")\n",
        "            if attempt < max_retries - 1:\n",
        "                time.sleep(5)  # Wait before retrying\n",
        "            else:\n",
        "                print(f\"Failed to generate label for paper '{title[:50]}...' after {max_retries} attempts\")\n",
        "                return None\n",
        "\n"
      ],
      "metadata": {
        "id": "Rv25Km91eXy_"
      },
      "execution_count": 5,
      "outputs": []
    },
    {
      "cell_type": "code",
      "execution_count": 6,
      "metadata": {
        "id": "FHGp1Cfbcp_-"
      },
      "outputs": [],
      "source": [
        "\n",
        "\n",
        "def label_papers(dataframe, api_key, start_idx=2500, num_papers=2500, save_interval=100):\n",
        "    \"\"\"\n",
        "    Modified to process papers from start_idx onwards\n",
        "\n",
        "    Args:\n",
        "        start_idx: Starting index (2500 for second half)\n",
        "        num_papers: Number of papers to process from start_idx\n",
        "    \"\"\"\n",
        "    # Load partial results if exists\n",
        "    try:\n",
        "        df = pd.read_csv('/content/drive/MyDrive/CSCE670 DATASET/labeled_papers_partial_2500_5000.csv')\n",
        "        print(\"Resuming from partial progress...\")\n",
        "    except:\n",
        "        df = dataframe.copy()\n",
        "        if 'label' not in df.columns:\n",
        "            df['label'] = None\n",
        "\n",
        "    model = configure_gemini(api_key)\n",
        "\n",
        "    # Calculate processing range\n",
        "    end_idx = min(start_idx + num_papers, len(df))\n",
        "    print(f\"Processing papers {start_idx} to {end_idx-1}...\")\n",
        "\n",
        "    processed_count = 0\n",
        "    for idx in tqdm(range(start_idx, end_idx), total=end_idx-start_idx):\n",
        "        if pd.isna(df.at[idx, 'label']):\n",
        "            label = generate_paper_label(model, df.at[idx, 'title'], df.at[idx, 'abstract'])\n",
        "            df.at[idx, 'label'] = label\n",
        "            processed_count += 1\n",
        "\n",
        "            # Save progress periodically\n",
        "            if processed_count % save_interval == 0:\n",
        "                df.to_csv('/content/drive/MyDrive/CSCE670 DATASET/labeled_papers_partial_2500_5000.csv', index=False)\n",
        "                print(f\"\\nSaved progress after {processed_count} papers\")\n",
        "\n",
        "    # Final save PATH TO YOUR SAVING DATASETS\n",
        "    output_path = '/content/drive/MyDrive/CSCE670 DATASET/labeled_papers_2500_5000_final.csv'\n",
        "    df.to_csv(output_path, index=False)\n",
        "    return df\n"
      ]
    },
    {
      "cell_type": "code",
      "source": [
        "def relabel_unlabeled_papers(input_csv_path, output_csv_path, api_key):\n",
        "    \"\"\"\n",
        "    Processes only unlabeled papers in an existing CSV\n",
        "    Args:\n",
        "        input_csv_path: Path to your partially labeled CSV\n",
        "        output_csv_path: Where to save results (can be same as input)\n",
        "        api_key: Your Gemini API key\n",
        "    \"\"\"\n",
        "    # Load existing data\n",
        "    df = pd.read_csv(input_csv_path)\n",
        "\n",
        "    # Initialize model\n",
        "    model = configure_gemini(api_key)\n",
        "\n",
        "  # Only look at rows from 2500 onwards\n",
        "    df_subset = df.iloc[2500:]\n",
        "\n",
        "    # Find unlabeled rows within that subset\n",
        "    unlabeled = df_subset['label'].isna()\n",
        "\n",
        "    print(f\"Found {unlabeled.sum()} unlabeled papers to process from row 2500 onward...\")\n",
        "\n",
        "    for idx in tqdm(df_subset[unlabeled].index, total=unlabeled.sum()):\n",
        "        try:\n",
        "            label = generate_paper_label(\n",
        "                model,\n",
        "                df.at[idx, 'title'],\n",
        "                df.at[idx, 'abstract']\n",
        "            )\n",
        "            df.at[idx, 'label'] = label\n",
        "\n",
        "            if idx % 50 == 0:\n",
        "                df.to_csv(output_csv_path, index=False)\n",
        "        except Exception as e:\n",
        "            print(f\"Critical error at index {idx}: {str(e)[:200]}\")\n",
        "            break\n",
        "\n",
        "\n",
        "    # Final save\n",
        "    df.to_csv(output_csv_path, index=False)\n",
        "    return df\n",
        "\n",
        "# Usage:\n",
        "if __name__ == \"__main__\":\n",
        "    # Load your API key\n",
        "    GEMINI_API_KEY = userdata.get('GOOGLE_API_KEY')\n",
        "\n",
        "    # Process unlabeled papers\n",
        "    relabel_unlabeled_papers(\n",
        "        input_csv_path='/content/drive/MyDrive/CSCE670 DATASET/labeled_papers_2500_5000_final5.csv',\n",
        "        output_csv_path='/content/drive/MyDrive/CSCE670 DATASET/labeled_papers_2500_5000_final6.csv',\n",
        "        api_key=GEMINI_API_KEY\n",
        "    )"
      ],
      "metadata": {
        "colab": {
          "base_uri": "https://localhost:8080/",
          "height": 52
        },
        "id": "PLnzBL-0Yxng",
        "outputId": "a6ad09ca-bc88-40b7-ea91-694fc0b91f04"
      },
      "execution_count": 25,
      "outputs": [
        {
          "output_type": "stream",
          "name": "stdout",
          "text": [
            "Found 4 unlabeled papers to process from row 2500 onward...\n"
          ]
        },
        {
          "output_type": "stream",
          "name": "stderr",
          "text": [
            "100%|██████████| 4/4 [00:01<00:00,  2.42it/s]\n"
          ]
        }
      ]
    },
    {
      "cell_type": "code",
      "source": [
        "\n",
        "# if __name__ == \"__main__\":\n",
        "#     # Load full dataset\n",
        "#     ## PATH TO YOUR DATASET 5000 PAPERS CSV\n",
        "#     df = pd.read_csv('/content/drive/MyDrive/CSCE670 DATASET/5000_papers.csv')\n",
        "\n",
        "#     # Get API key\n",
        "#     try:\n",
        "#         GEMINI_API_KEY = userdata.get('GOOGLE_API_KEY')\n",
        "#     except Exception as e:\n",
        "#         raise ValueError(\"Please set up your Gemini API key in Colab secrets first\") from e\n",
        "\n",
        "#     # Process second half (2500-5000)\n",
        "#     labeled_df = relabel_unlabeled_papers(df, GEMINI_API_KEY, start_idx=2500)\n",
        "\n",
        "#     # Stats\n",
        "#     success = labeled_df.iloc[2500:]['label'].notna().sum()\n",
        "#     print(f\"\\nCompleted! Successfully labeled {success}/2500 papers in second half\")\n",
        "#     print(\"Sample results from second half:\")\n",
        "#     print(labeled_df.iloc[2500:2505][['title', 'label']])"
      ],
      "metadata": {
        "id": "H28j2GileLhd"
      },
      "execution_count": null,
      "outputs": []
    },
    {
      "cell_type": "code",
      "source": [
        "df1 = pd.read_csv('/content/drive/MyDrive/CSCE670 DATASET/labeled_papers_first_2500_COMPLETED_2.csv')\n",
        "df2 = pd.read_csv('/content/drive/MyDrive/CSCE670 DATASET/labeled_papers_2500_5000_final6.csv')\n",
        "\n",
        "final_df = df1.copy()\n",
        "\n",
        "# Update the 'label' column from df2 for rows 2500 onward\n",
        "final_df.loc[2500:, 'label'] = df2.loc[2500:, 'label']\n",
        "\n",
        "final_df.to_csv('/content/drive/MyDrive/CSCE670 DATASET/all_labels.csv', index=False)\n",
        "\n",
        "# for label in df_subset['label']:\n",
        "#     print(label)"
      ],
      "metadata": {
        "id": "PMAkOx4CRQYB"
      },
      "execution_count": 23,
      "outputs": []
    },
    {
      "cell_type": "code",
      "source": [
        "unlabeled = final_df['label'].isna()\n",
        "\n",
        "print(f\"Found {unlabeled.sum()} unlabeled papers\")"
      ],
      "metadata": {
        "colab": {
          "base_uri": "https://localhost:8080/"
        },
        "id": "6yCFNJWhlUzo",
        "outputId": "b1e1026a-98c6-42dc-f7df-1616590c5722"
      },
      "execution_count": 24,
      "outputs": [
        {
          "output_type": "stream",
          "name": "stdout",
          "text": [
            "Found 29 unlabeled papers\n"
          ]
        }
      ]
    }
  ]
}